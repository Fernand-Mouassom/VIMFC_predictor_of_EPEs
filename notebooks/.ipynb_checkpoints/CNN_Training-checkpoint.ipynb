{
 "cells": [
  {
   "cell_type": "code",
   "execution_count": null,
   "id": "ead8403c-3110-4f6b-a404-69eb436015d2",
   "metadata": {},
   "outputs": [],
   "source": [
    "import tensorflow.keras as keras\n",
    "from tensorflow.keras import models, layers, metrics, optimizers, losses, regularizers\n",
    "from sklearn.model_selection import train_test_split, StratifiedKFold\n",
    "from tensorflow.keras.callbacks import ModelCheckpoint\n",
    "import xarray as xr\n",
    "import numpy as np \n",
    "import pandas as pd\n",
    "import random"
   ]
  },
  {
   "cell_type": "markdown",
   "id": "b0ff01f9-5f60-46c5-922e-48972622745d",
   "metadata": {},
   "source": [
    "#### Function and Metrics"
   ]
  },
  {
   "cell_type": "code",
   "execution_count": null,
   "id": "4918c1e1-8ccb-429e-898c-be4c93e20fd6",
   "metadata": {},
   "outputs": [],
   "source": [
    "METRICS = [\n",
    "    metrics.CategoricalAccuracy(name='accuracy'),\n",
    "    metrics.Precision(class_id = 1, name='precision'),\n",
    "    metrics.Recall(class_id = 1, name='recall'),\n",
    "    metrics.AUC(curve='PR', num_thresholds=1000, name='pr_auc')\n",
    "]\n",
    "\n",
    "def class_weights(x):\n",
    "    n_class = x.max() + 1\n",
    "    csize = []\n",
    "    for i in range(n_class):\n",
    "        csize.append((x == i).sum())\n",
    "    w = dict()\n",
    "    for i in range(n_class):\n",
    "        w[i] = max(csize)/(csize[i]*n_class)\n",
    "    return(w)\n",
    "    \n",
    "def onehot(x):\n",
    "    y = np.zeros((x.size, x.max()+1)) \n",
    "    y[np.arange(x.size),x] = 1\n",
    "    \n",
    "    return(y)"
   ]
  },
  {
   "cell_type": "markdown",
   "id": "101fe7d6-ef77-4ff8-97c4-bd9c2f67599c",
   "metadata": {},
   "source": [
    "#### Data preparation"
   ]
  },
  {
   "cell_type": "code",
   "execution_count": null,
   "id": "d2386cdf-5053-4ae0-b5f3-a20ea1670773",
   "metadata": {},
   "outputs": [],
   "source": [
    "data_x=xr.open_dataset('../input_data/Vertical_Integrated_Moisture_convergence.nc')\n",
    "data_y=pd.read_csv('../processed_data/extreme_event_days.csv')\n",
    "data_y['time'] = pd.to_datetime(data_y['time'], errors='coerce')\n",
    "data_y=data_y.drop('Unnamed: 0', axis=1)\n",
    "n_time=len(data_x.time.values)\n",
    "n_lat=len(data_x.lat.values)\n",
    "n_lon=len(data_x.lon.values)\n",
    "x_data=data_x.VIMFC.values\n",
    "x_data=(x_data-x_data.mean(axis=0))/x_data.std(axis=0)\n",
    "x_data=x_data.reshape(n_time, n_lat, n_lon, 1).astype(np.float32)\n",
    "y_data=np.array(data_y['label'])\n",
    "y_data=y_data.astype(np.int32)\n",
    "y_data_one_hot=onehot(y_data)\n",
    "ind = np.arange(len(y_data))\n",
    "x_train, x_test, y_train, y_test, ind_train, ind_test = train_test_split(x_data, y_data_one_hot, ind, test_size=0.20, random_state=42, \n",
    "                                                                         shuffle = True, stratify = y_data_one_hot)\n",
    "print(x_train.shape, x_test.shape)\n",
    "print(y_train.shape, y_test.shape)"
   ]
  },
  {
   "cell_type": "markdown",
   "id": "09e2bb91-54e4-4dee-9ff8-4dfc5f3e4710",
   "metadata": {},
   "source": [
    "#### Training model with best model from Hyper_Turning"
   ]
  },
  {
   "cell_type": "code",
   "execution_count": 40,
   "id": "4e93a684-7a4b-450f-aae7-7d0da7a34d00",
   "metadata": {},
   "outputs": [],
   "source": [
    "def build_model(lr=0.0001, conv_filters = 16, dense_neurons =32, dense_layers = 1, activity_reg = 0.0001, dropout_rate = 0.2, input_channels = 1):\n",
    "\n",
    "    model = models.Sequential() \n",
    "    model.add(layers.Input(shape=(121, 121, input_channels))) \n",
    "    \n",
    "    model.add(layers.Conv2D(conv_filters, (3,3), activity_regularizer=regularizers.l2(activity_reg))) \n",
    "    model.add(layers.Activation('relu')) \n",
    "    model.add(layers.MaxPooling2D((2,2)))\n",
    "    model.add(layers.Dropout(dropout_rate))\n",
    "                            \n",
    "    model.add(layers.Conv2D(conv_filters, (3,3), activity_regularizer=regularizers.l2(activity_reg))) \n",
    "    model.add(layers.Activation('relu')) \n",
    "    model.add(layers.MaxPooling2D((2,2))) \n",
    "    model.add(layers.Dropout(dropout_rate))\n",
    "                            \n",
    "    model.add(layers.Flatten()) \n",
    "    \n",
    "    for i in range(dense_layers):\n",
    "        model.add(layers.Dense(dense_neurons, activity_regularizer=regularizers.l2(activity_reg)))\n",
    "        model.add(layers.Activation('relu'))\n",
    "     \n",
    "    model.add(layers.Dense(2, activation='softmax')) \n",
    "    \n",
    "    model.compile(loss=losses.CategoricalCrossentropy(), \n",
    "                  optimizer=optimizers.Adam(learning_rate = lr), \n",
    "                  metrics=METRICS)\n",
    "    return(model)"
   ]
  },
  {
   "cell_type": "markdown",
   "id": "b1a920de-6390-4441-a7ce-efed20c36d1e",
   "metadata": {},
   "source": [
    "#### Model training"
   ]
  },
  {
   "cell_type": "code",
   "execution_count": 41,
   "id": "42c37b1d-0da1-4a3c-920c-9f82236344f9",
   "metadata": {
    "scrolled": true
   },
   "outputs": [
    {
     "name": "stdout",
     "output_type": "stream",
     "text": [
      "Model: \"sequential_4\"\n",
      "_________________________________________________________________\n",
      " Layer (type)                Output Shape              Param #   \n",
      "=================================================================\n",
      " conv2d_8 (Conv2D)           (None, 119, 119, 16)      160       \n",
      "                                                                 \n",
      " activation_12 (Activation)  (None, 119, 119, 16)      0         \n",
      "                                                                 \n",
      " max_pooling2d_8 (MaxPoolin  (None, 59, 59, 16)        0         \n",
      " g2D)                                                            \n",
      "                                                                 \n",
      " dropout_8 (Dropout)         (None, 59, 59, 16)        0         \n",
      "                                                                 \n",
      " conv2d_9 (Conv2D)           (None, 57, 57, 16)        2320      \n",
      "                                                                 \n",
      " activation_13 (Activation)  (None, 57, 57, 16)        0         \n",
      "                                                                 \n",
      " max_pooling2d_9 (MaxPoolin  (None, 28, 28, 16)        0         \n",
      " g2D)                                                            \n",
      "                                                                 \n",
      " dropout_9 (Dropout)         (None, 28, 28, 16)        0         \n",
      "                                                                 \n",
      " flatten_4 (Flatten)         (None, 12544)             0         \n",
      "                                                                 \n",
      " dense_8 (Dense)             (None, 32)                401440    \n",
      "                                                                 \n",
      " activation_14 (Activation)  (None, 32)                0         \n",
      "                                                                 \n",
      " dense_9 (Dense)             (None, 2)                 66        \n",
      "                                                                 \n",
      "=================================================================\n",
      "Total params: 403986 (1.54 MB)\n",
      "Trainable params: 403986 (1.54 MB)\n",
      "Non-trainable params: 0 (0.00 Byte)\n",
      "_________________________________________________________________\n"
     ]
    }
   ],
   "source": [
    "y_labels = np.argmax(y_data_one_hot, axis=1)\n",
    "y_weight = y_labels[ind_train]\n",
    "class_weigh = class_weights(y_weight.astype('int'))\n",
    "model = build_model()\n",
    "callback = tf.keras.callbacks.EarlyStopping(monitor='val_loss', patience=10, restore_best_weights = True)\n",
    "model.summary()"
   ]
  },
  {
   "cell_type": "code",
   "execution_count": 42,
   "id": "3a985b89-a84c-41a4-89a0-2ece921ae3da",
   "metadata": {},
   "outputs": [
    {
     "name": "stdout",
     "output_type": "stream",
     "text": [
      "Epoch 1/100\n",
      "6/6 [==============================] - 8s 1s/step - loss: 3.9642 - accuracy: 0.7985 - precision: 0.2307 - recall: 0.7580 - pr_auc: 0.9060 - val_loss: 3.8801 - val_accuracy: 0.4685 - val_precision: 0.1127 - val_recall: 0.9155 - val_pr_auc: 0.4545\n",
      "Epoch 2/100\n",
      "6/6 [==============================] - 7s 1s/step - loss: 3.7463 - accuracy: 0.5799 - precision: 0.1300 - recall: 0.8388 - pr_auc: 0.5795 - val_loss: 3.5688 - val_accuracy: 0.8368 - val_precision: 0.2591 - val_recall: 0.6667 - val_pr_auc: 0.9055\n",
      "Epoch 3/100\n",
      "6/6 [==============================] - 7s 1s/step - loss: 3.5752 - accuracy: 0.7406 - precision: 0.1959 - recall: 0.8271 - pr_auc: 0.7800 - val_loss: 3.4620 - val_accuracy: 0.7823 - val_precision: 0.2319 - val_recall: 0.8592 - val_pr_auc: 0.8525\n",
      "Epoch 4/100\n",
      "6/6 [==============================] - 7s 1s/step - loss: 3.4162 - accuracy: 0.7888 - precision: 0.2361 - recall: 0.8518 - pr_auc: 0.8492 - val_loss: 3.2846 - val_accuracy: 0.8313 - val_precision: 0.2792 - val_recall: 0.8310 - val_pr_auc: 0.9116\n",
      "Epoch 5/100\n",
      "6/6 [==============================] - 7s 1s/step - loss: 3.2995 - accuracy: 0.7987 - precision: 0.2448 - recall: 0.8482 - pr_auc: 0.8692 - val_loss: 3.1780 - val_accuracy: 0.8422 - val_precision: 0.2987 - val_recall: 0.8638 - val_pr_auc: 0.9185\n",
      "Epoch 6/100\n",
      "6/6 [==============================] - 7s 1s/step - loss: 3.1902 - accuracy: 0.8167 - precision: 0.2663 - recall: 0.8659 - pr_auc: 0.8918 - val_loss: 3.1244 - val_accuracy: 0.8155 - val_precision: 0.2698 - val_recall: 0.8967 - val_pr_auc: 0.8969\n",
      "Epoch 7/100\n",
      "6/6 [==============================] - 7s 1s/step - loss: 3.0967 - accuracy: 0.8379 - precision: 0.2924 - recall: 0.8659 - pr_auc: 0.9135 - val_loss: 3.0706 - val_accuracy: 0.8018 - val_precision: 0.2592 - val_recall: 0.9249 - val_pr_auc: 0.8810\n",
      "Epoch 8/100\n",
      "6/6 [==============================] - 7s 1s/step - loss: 3.0085 - accuracy: 0.8377 - precision: 0.2938 - recall: 0.8776 - pr_auc: 0.9126 - val_loss: 2.9593 - val_accuracy: 0.8261 - val_precision: 0.2840 - val_recall: 0.9108 - val_pr_auc: 0.9083\n",
      "Epoch 9/100\n",
      "6/6 [==============================] - 7s 1s/step - loss: 2.9246 - accuracy: 0.8345 - precision: 0.2939 - recall: 0.9094 - pr_auc: 0.9105 - val_loss: 2.8431 - val_accuracy: 0.8621 - val_precision: 0.3316 - val_recall: 0.8779 - val_pr_auc: 0.9369\n",
      "Epoch 10/100\n",
      "6/6 [==============================] - 7s 1s/step - loss: 2.8551 - accuracy: 0.8475 - precision: 0.3078 - recall: 0.8788 - pr_auc: 0.9271 - val_loss: 2.8685 - val_accuracy: 0.8046 - val_precision: 0.2632 - val_recall: 0.9343 - val_pr_auc: 0.8834\n",
      "Epoch 11/100\n",
      "6/6 [==============================] - 7s 1s/step - loss: 2.7827 - accuracy: 0.8580 - precision: 0.3263 - recall: 0.8953 - pr_auc: 0.9342 - val_loss: 2.7743 - val_accuracy: 0.8217 - val_precision: 0.2819 - val_recall: 0.9343 - val_pr_auc: 0.9057\n",
      "Epoch 12/100\n",
      "6/6 [==============================] - 7s 1s/step - loss: 2.7058 - accuracy: 0.8612 - precision: 0.3357 - recall: 0.9282 - pr_auc: 0.9356 - val_loss: 2.6854 - val_accuracy: 0.8443 - val_precision: 0.3097 - val_recall: 0.9249 - val_pr_auc: 0.9241\n",
      "Epoch 13/100\n",
      "6/6 [==============================] - 7s 1s/step - loss: 2.6418 - accuracy: 0.8721 - precision: 0.3537 - recall: 0.9176 - pr_auc: 0.9460 - val_loss: 2.6651 - val_accuracy: 0.8234 - val_precision: 0.2851 - val_recall: 0.9437 - val_pr_auc: 0.9047\n",
      "Epoch 14/100\n",
      "6/6 [==============================] - 7s 1s/step - loss: 2.5840 - accuracy: 0.8697 - precision: 0.3492 - recall: 0.9165 - pr_auc: 0.9451 - val_loss: 2.5909 - val_accuracy: 0.8344 - val_precision: 0.2987 - val_recall: 0.9437 - val_pr_auc: 0.9174\n",
      "Epoch 15/100\n",
      "6/6 [==============================] - 7s 1s/step - loss: 2.5292 - accuracy: 0.8622 - precision: 0.3363 - recall: 0.9200 - pr_auc: 0.9426 - val_loss: 2.5035 - val_accuracy: 0.8566 - val_precision: 0.3289 - val_recall: 0.9296 - val_pr_auc: 0.9369\n",
      "Epoch 16/100\n",
      "6/6 [==============================] - 7s 1s/step - loss: 2.4677 - accuracy: 0.8764 - precision: 0.3642 - recall: 0.9388 - pr_auc: 0.9497 - val_loss: 2.4783 - val_accuracy: 0.8439 - val_precision: 0.3105 - val_recall: 0.9343 - val_pr_auc: 0.9251\n",
      "Epoch 17/100\n",
      "6/6 [==============================] - 7s 1s/step - loss: 2.4183 - accuracy: 0.8779 - precision: 0.3655 - recall: 0.9224 - pr_auc: 0.9519 - val_loss: 2.4024 - val_accuracy: 0.8607 - val_precision: 0.3361 - val_recall: 0.9343 - val_pr_auc: 0.9398\n",
      "Epoch 18/100\n",
      "6/6 [==============================] - 7s 1s/step - loss: 2.3610 - accuracy: 0.8818 - precision: 0.3751 - recall: 0.9376 - pr_auc: 0.9539 - val_loss: 2.3447 - val_accuracy: 0.8679 - val_precision: 0.3485 - val_recall: 0.9343 - val_pr_auc: 0.9456\n",
      "Epoch 19/100\n",
      "6/6 [==============================] - 7s 1s/step - loss: 2.3183 - accuracy: 0.8817 - precision: 0.3741 - recall: 0.9318 - pr_auc: 0.9540 - val_loss: 2.3342 - val_accuracy: 0.8498 - val_precision: 0.3189 - val_recall: 0.9343 - val_pr_auc: 0.9298\n",
      "Epoch 20/100\n",
      "6/6 [==============================] - 7s 1s/step - loss: 2.2624 - accuracy: 0.8907 - precision: 0.3945 - recall: 0.9412 - pr_auc: 0.9608 - val_loss: 2.2629 - val_accuracy: 0.8672 - val_precision: 0.3473 - val_recall: 0.9343 - val_pr_auc: 0.9439\n",
      "Epoch 21/100\n",
      "6/6 [==============================] - 7s 1s/step - loss: 2.2192 - accuracy: 0.8902 - precision: 0.3930 - recall: 0.9353 - pr_auc: 0.9612 - val_loss: 2.2365 - val_accuracy: 0.8583 - val_precision: 0.3322 - val_recall: 0.9343 - val_pr_auc: 0.9373\n",
      "Epoch 22/100\n",
      "6/6 [==============================] - 7s 1s/step - loss: 2.1757 - accuracy: 0.8939 - precision: 0.4020 - recall: 0.9412 - pr_auc: 0.9629 - val_loss: 2.2213 - val_accuracy: 0.8415 - val_precision: 0.3083 - val_recall: 0.9437 - val_pr_auc: 0.9257\n",
      "Epoch 23/100\n",
      "6/6 [==============================] - 7s 1s/step - loss: 2.1288 - accuracy: 0.8999 - precision: 0.4171 - recall: 0.9471 - pr_auc: 0.9654 - val_loss: 2.1755 - val_accuracy: 0.8460 - val_precision: 0.3134 - val_recall: 0.9343 - val_pr_auc: 0.9297\n",
      "Epoch 24/100\n",
      "6/6 [==============================] - 7s 1s/step - loss: 2.0913 - accuracy: 0.8947 - precision: 0.4049 - recall: 0.9541 - pr_auc: 0.9630 - val_loss: 2.1153 - val_accuracy: 0.8641 - val_precision: 0.3419 - val_recall: 0.9343 - val_pr_auc: 0.9408\n",
      "Epoch 25/100\n",
      "6/6 [==============================] - 7s 1s/step - loss: 2.0506 - accuracy: 0.8950 - precision: 0.4060 - recall: 0.9576 - pr_auc: 0.9633 - val_loss: 2.0449 - val_accuracy: 0.8806 - val_precision: 0.3707 - val_recall: 0.9155 - val_pr_auc: 0.9556\n",
      "Epoch 26/100\n",
      "6/6 [==============================] - 7s 1s/step - loss: 2.0146 - accuracy: 0.8900 - precision: 0.3938 - recall: 0.9506 - pr_auc: 0.9613 - val_loss: 1.9772 - val_accuracy: 0.8990 - val_precision: 0.4113 - val_recall: 0.8920 - val_pr_auc: 0.9676\n",
      "Epoch 27/100\n",
      "6/6 [==============================] - 7s 1s/step - loss: 1.9751 - accuracy: 0.8949 - precision: 0.4061 - recall: 0.9612 - pr_auc: 0.9638 - val_loss: 1.9617 - val_accuracy: 0.8908 - val_precision: 0.3931 - val_recall: 0.9155 - val_pr_auc: 0.9612\n",
      "Epoch 28/100\n",
      "6/6 [==============================] - 7s 1s/step - loss: 1.9399 - accuracy: 0.9098 - precision: 0.4436 - recall: 0.9435 - pr_auc: 0.9730 - val_loss: 1.9827 - val_accuracy: 0.8569 - val_precision: 0.3317 - val_recall: 0.9484 - val_pr_auc: 0.9394\n",
      "Epoch 29/100\n",
      "6/6 [==============================] - 7s 1s/step - loss: 1.9023 - accuracy: 0.9080 - precision: 0.4388 - recall: 0.9494 - pr_auc: 0.9715 - val_loss: 1.9399 - val_accuracy: 0.8652 - val_precision: 0.3437 - val_recall: 0.9343 - val_pr_auc: 0.9443\n",
      "Epoch 30/100\n",
      "6/6 [==============================] - 7s 1s/step - loss: 1.8664 - accuracy: 0.9048 - precision: 0.4300 - recall: 0.9506 - pr_auc: 0.9706 - val_loss: 1.8736 - val_accuracy: 0.8871 - val_precision: 0.3851 - val_recall: 0.9202 - val_pr_auc: 0.9586\n",
      "Epoch 31/100\n",
      "6/6 [==============================] - 7s 1s/step - loss: 1.8331 - accuracy: 0.9044 - precision: 0.4305 - recall: 0.9729 - pr_auc: 0.9680 - val_loss: 1.8051 - val_accuracy: 0.9035 - val_precision: 0.4221 - val_recall: 0.8779 - val_pr_auc: 0.9719\n",
      "Epoch 32/100\n",
      "6/6 [==============================] - 7s 1s/step - loss: 1.8006 - accuracy: 0.9105 - precision: 0.4464 - recall: 0.9612 - pr_auc: 0.9734 - val_loss: 1.8178 - val_accuracy: 0.8830 - val_precision: 0.3767 - val_recall: 0.9249 - val_pr_auc: 0.9575\n",
      "Epoch 33/100\n",
      "6/6 [==============================] - 7s 1s/step - loss: 1.7684 - accuracy: 0.9135 - precision: 0.4552 - recall: 0.9612 - pr_auc: 0.9752 - val_loss: 1.7960 - val_accuracy: 0.8806 - val_precision: 0.3722 - val_recall: 0.9296 - val_pr_auc: 0.9550\n",
      "Epoch 34/100\n",
      "6/6 [==============================] - 7s 1s/step - loss: 1.7383 - accuracy: 0.9132 - precision: 0.4544 - recall: 0.9624 - pr_auc: 0.9751 - val_loss: 1.7645 - val_accuracy: 0.8823 - val_precision: 0.3748 - val_recall: 0.9202 - val_pr_auc: 0.9567\n",
      "Epoch 35/100\n",
      "6/6 [==============================] - 7s 1s/step - loss: 1.7114 - accuracy: 0.9095 - precision: 0.4439 - recall: 0.9682 - pr_auc: 0.9728 - val_loss: 1.7146 - val_accuracy: 0.8946 - val_precision: 0.4012 - val_recall: 0.9061 - val_pr_auc: 0.9652\n",
      "Epoch 36/100\n",
      "6/6 [==============================] - 7s 1s/step - loss: 1.6821 - accuracy: 0.9107 - precision: 0.4473 - recall: 0.9682 - pr_auc: 0.9733 - val_loss: 1.6834 - val_accuracy: 0.8966 - val_precision: 0.4059 - val_recall: 0.9014 - val_pr_auc: 0.9670\n",
      "Epoch 37/100\n",
      "6/6 [==============================] - 7s 1s/step - loss: 1.6542 - accuracy: 0.9112 - precision: 0.4490 - recall: 0.9741 - pr_auc: 0.9740 - val_loss: 1.6628 - val_accuracy: 0.8936 - val_precision: 0.3988 - val_recall: 0.9061 - val_pr_auc: 0.9654\n",
      "Epoch 38/100\n",
      "6/6 [==============================] - 7s 1s/step - loss: 1.6257 - accuracy: 0.9188 - precision: 0.4716 - recall: 0.9659 - pr_auc: 0.9774 - val_loss: 1.6396 - val_accuracy: 0.8946 - val_precision: 0.4017 - val_recall: 0.9108 - val_pr_auc: 0.9648\n",
      "Epoch 39/100\n",
      "6/6 [==============================] - 7s 1s/step - loss: 1.5992 - accuracy: 0.9180 - precision: 0.4693 - recall: 0.9706 - pr_auc: 0.9774 - val_loss: 1.6019 - val_accuracy: 0.9008 - val_precision: 0.4165 - val_recall: 0.9014 - val_pr_auc: 0.9693\n",
      "Epoch 40/100\n",
      "6/6 [==============================] - 7s 1s/step - loss: 1.5745 - accuracy: 0.9138 - precision: 0.4564 - recall: 0.9729 - pr_auc: 0.9741 - val_loss: 1.5407 - val_accuracy: 0.9261 - val_precision: 0.4960 - val_recall: 0.8685 - val_pr_auc: 0.9803\n",
      "Epoch 41/100\n",
      "6/6 [==============================] - 7s 1s/step - loss: 1.5483 - accuracy: 0.9180 - precision: 0.4691 - recall: 0.9729 - pr_auc: 0.9779 - val_loss: 1.5393 - val_accuracy: 0.9090 - val_precision: 0.4388 - val_recall: 0.8920 - val_pr_auc: 0.9744\n",
      "Epoch 42/100\n",
      "6/6 [==============================] - 7s 1s/step - loss: 1.5221 - accuracy: 0.9221 - precision: 0.4822 - recall: 0.9706 - pr_auc: 0.9792 - val_loss: 1.5211 - val_accuracy: 0.9079 - val_precision: 0.4364 - val_recall: 0.9014 - val_pr_auc: 0.9733\n",
      "Epoch 43/100\n",
      "6/6 [==============================] - 7s 1s/step - loss: 1.5013 - accuracy: 0.9227 - precision: 0.4841 - recall: 0.9682 - pr_auc: 0.9795 - val_loss: 1.5280 - val_accuracy: 0.8922 - val_precision: 0.3963 - val_recall: 0.9155 - val_pr_auc: 0.9639\n",
      "Epoch 44/100\n",
      "6/6 [==============================] - 7s 1s/step - loss: 1.4802 - accuracy: 0.9168 - precision: 0.4656 - recall: 0.9706 - pr_auc: 0.9776 - val_loss: 1.4820 - val_accuracy: 0.9042 - val_precision: 0.4254 - val_recall: 0.8967 - val_pr_auc: 0.9720\n",
      "Epoch 45/100\n",
      "6/6 [==============================] - 7s 1s/step - loss: 1.4542 - accuracy: 0.9220 - precision: 0.4820 - recall: 0.9741 - pr_auc: 0.9785 - val_loss: 1.4450 - val_accuracy: 0.9155 - val_precision: 0.4589 - val_recall: 0.8920 - val_pr_auc: 0.9769\n",
      "Epoch 46/100\n",
      "6/6 [==============================] - 7s 1s/step - loss: 1.4343 - accuracy: 0.9199 - precision: 0.4754 - recall: 0.9765 - pr_auc: 0.9782 - val_loss: 1.4199 - val_accuracy: 0.9192 - val_precision: 0.4712 - val_recall: 0.8826 - val_pr_auc: 0.9783\n",
      "Epoch 47/100\n",
      "6/6 [==============================] - 7s 1s/step - loss: 1.4048 - accuracy: 0.9270 - precision: 0.4991 - recall: 0.9824 - pr_auc: 0.9814 - val_loss: 1.3942 - val_accuracy: 0.9254 - val_precision: 0.4934 - val_recall: 0.8779 - val_pr_auc: 0.9799\n",
      "Epoch 48/100\n",
      "6/6 [==============================] - 7s 1s/step - loss: 1.3890 - accuracy: 0.9231 - precision: 0.4857 - recall: 0.9788 - pr_auc: 0.9798 - val_loss: 1.3804 - val_accuracy: 0.9196 - val_precision: 0.4722 - val_recall: 0.8779 - val_pr_auc: 0.9785\n",
      "Epoch 49/100\n",
      "6/6 [==============================] - 7s 1s/step - loss: 1.3710 - accuracy: 0.9235 - precision: 0.4870 - recall: 0.9694 - pr_auc: 0.9799 - val_loss: 1.3584 - val_accuracy: 0.9244 - val_precision: 0.4896 - val_recall: 0.8873 - val_pr_auc: 0.9794\n",
      "Epoch 50/100\n",
      "6/6 [==============================] - 7s 1s/step - loss: 1.3497 - accuracy: 0.9281 - precision: 0.5030 - recall: 0.9729 - pr_auc: 0.9821 - val_loss: 1.3543 - val_accuracy: 0.9127 - val_precision: 0.4505 - val_recall: 0.8967 - val_pr_auc: 0.9756\n",
      "Epoch 51/100\n",
      "6/6 [==============================] - 7s 1s/step - loss: 1.3321 - accuracy: 0.9262 - precision: 0.4961 - recall: 0.9741 - pr_auc: 0.9809 - val_loss: 1.3339 - val_accuracy: 0.9148 - val_precision: 0.4567 - val_recall: 0.8920 - val_pr_auc: 0.9763\n",
      "Epoch 52/100\n",
      "6/6 [==============================] - 7s 1s/step - loss: 1.3135 - accuracy: 0.9266 - precision: 0.4976 - recall: 0.9776 - pr_auc: 0.9819 - val_loss: 1.3265 - val_accuracy: 0.9083 - val_precision: 0.4371 - val_recall: 0.8967 - val_pr_auc: 0.9734\n",
      "Epoch 53/100\n",
      "6/6 [==============================] - 7s 1s/step - loss: 1.2953 - accuracy: 0.9239 - precision: 0.4882 - recall: 0.9706 - pr_auc: 0.9803 - val_loss: 1.2733 - val_accuracy: 0.9336 - val_precision: 0.5271 - val_recall: 0.8685 - val_pr_auc: 0.9831\n",
      "Epoch 54/100\n",
      "6/6 [==============================] - 7s 1s/step - loss: 1.2754 - accuracy: 0.9226 - precision: 0.4841 - recall: 0.9835 - pr_auc: 0.9804 - val_loss: 1.2469 - val_accuracy: 0.9381 - val_precision: 0.5479 - val_recall: 0.8592 - val_pr_auc: 0.9853\n",
      "Epoch 55/100\n",
      "6/6 [==============================] - 7s 1s/step - loss: 1.2618 - accuracy: 0.9203 - precision: 0.4768 - recall: 0.9776 - pr_auc: 0.9790 - val_loss: 1.2194 - val_accuracy: 0.9425 - val_precision: 0.5723 - val_recall: 0.8357 - val_pr_auc: 0.9877\n",
      "Epoch 56/100\n",
      "6/6 [==============================] - 7s 1s/step - loss: 1.2460 - accuracy: 0.9233 - precision: 0.4865 - recall: 0.9753 - pr_auc: 0.9809 - val_loss: 1.2198 - val_accuracy: 0.9353 - val_precision: 0.5349 - val_recall: 0.8638 - val_pr_auc: 0.9844\n",
      "Epoch 57/100\n",
      "6/6 [==============================] - 7s 1s/step - loss: 1.2233 - accuracy: 0.9331 - precision: 0.5214 - recall: 0.9741 - pr_auc: 0.9844 - val_loss: 1.2090 - val_accuracy: 0.9329 - val_precision: 0.5241 - val_recall: 0.8685 - val_pr_auc: 0.9833\n",
      "Epoch 58/100\n",
      "6/6 [==============================] - 7s 1s/step - loss: 1.2119 - accuracy: 0.9298 - precision: 0.5092 - recall: 0.9729 - pr_auc: 0.9825 - val_loss: 1.2028 - val_accuracy: 0.9271 - val_precision: 0.5000 - val_recall: 0.8779 - val_pr_auc: 0.9812\n",
      "Epoch 59/100\n",
      "6/6 [==============================] - 7s 1s/step - loss: 1.1947 - accuracy: 0.9284 - precision: 0.5039 - recall: 0.9800 - pr_auc: 0.9824 - val_loss: 1.1846 - val_accuracy: 0.9285 - val_precision: 0.5054 - val_recall: 0.8779 - val_pr_auc: 0.9822\n",
      "Epoch 60/100\n",
      "6/6 [==============================] - 7s 1s/step - loss: 1.1792 - accuracy: 0.9262 - precision: 0.4961 - recall: 0.9824 - pr_auc: 0.9814 - val_loss: 1.1602 - val_accuracy: 0.9353 - val_precision: 0.5349 - val_recall: 0.8638 - val_pr_auc: 0.9845\n",
      "Epoch 61/100\n",
      "6/6 [==============================] - 7s 1s/step - loss: 1.1628 - accuracy: 0.9259 - precision: 0.4953 - recall: 0.9835 - pr_auc: 0.9812 - val_loss: 1.1361 - val_accuracy: 0.9401 - val_precision: 0.5579 - val_recall: 0.8592 - val_pr_auc: 0.9866\n",
      "Epoch 62/100\n",
      "6/6 [==============================] - 7s 1s/step - loss: 1.1471 - accuracy: 0.9307 - precision: 0.5123 - recall: 0.9776 - pr_auc: 0.9833 - val_loss: 1.1269 - val_accuracy: 0.9370 - val_precision: 0.5430 - val_recall: 0.8592 - val_pr_auc: 0.9857\n",
      "Epoch 63/100\n",
      "6/6 [==============================] - 7s 1s/step - loss: 1.1338 - accuracy: 0.9315 - precision: 0.5152 - recall: 0.9800 - pr_auc: 0.9839 - val_loss: 1.1049 - val_accuracy: 0.9442 - val_precision: 0.5801 - val_recall: 0.8498 - val_pr_auc: 0.9874\n",
      "Epoch 64/100\n",
      "6/6 [==============================] - 7s 1s/step - loss: 1.1172 - accuracy: 0.9286 - precision: 0.5049 - recall: 0.9753 - pr_auc: 0.9827 - val_loss: 1.0836 - val_accuracy: 0.9446 - val_precision: 0.5859 - val_recall: 0.8169 - val_pr_auc: 0.9890\n",
      "Epoch 65/100\n",
      "6/6 [==============================] - 7s 1s/step - loss: 1.1041 - accuracy: 0.9235 - precision: 0.4872 - recall: 0.9871 - pr_auc: 0.9814 - val_loss: 1.0634 - val_accuracy: 0.9487 - val_precision: 0.6137 - val_recall: 0.7981 - val_pr_auc: 0.9902\n",
      "Epoch 66/100\n",
      "6/6 [==============================] - 7s 1s/step - loss: 1.0929 - accuracy: 0.9350 - precision: 0.5288 - recall: 0.9718 - pr_auc: 0.9845 - val_loss: 1.0835 - val_accuracy: 0.9339 - val_precision: 0.5284 - val_recall: 0.8732 - val_pr_auc: 0.9838\n",
      "Epoch 67/100\n",
      "6/6 [==============================] - 7s 1s/step - loss: 1.0793 - accuracy: 0.9312 - precision: 0.5143 - recall: 0.9753 - pr_auc: 0.9842 - val_loss: 1.0603 - val_accuracy: 0.9377 - val_precision: 0.5463 - val_recall: 0.8592 - val_pr_auc: 0.9862\n",
      "Epoch 68/100\n",
      "6/6 [==============================] - 7s 1s/step - loss: 1.0657 - accuracy: 0.9309 - precision: 0.5130 - recall: 0.9776 - pr_auc: 0.9839 - val_loss: 1.0446 - val_accuracy: 0.9405 - val_precision: 0.5596 - val_recall: 0.8592 - val_pr_auc: 0.9870\n",
      "Epoch 69/100\n",
      "6/6 [==============================] - 7s 1s/step - loss: 1.0519 - accuracy: 0.9337 - precision: 0.5236 - recall: 0.9788 - pr_auc: 0.9848 - val_loss: 1.0356 - val_accuracy: 0.9391 - val_precision: 0.5529 - val_recall: 0.8592 - val_pr_auc: 0.9864\n",
      "Epoch 70/100\n",
      "6/6 [==============================] - 7s 1s/step - loss: 1.0399 - accuracy: 0.9334 - precision: 0.5226 - recall: 0.9812 - pr_auc: 0.9840 - val_loss: 1.0137 - val_accuracy: 0.9432 - val_precision: 0.5770 - val_recall: 0.8263 - val_pr_auc: 0.9884\n",
      "Epoch 71/100\n",
      "6/6 [==============================] - 7s 1s/step - loss: 1.0243 - accuracy: 0.9355 - precision: 0.5305 - recall: 0.9824 - pr_auc: 0.9851 - val_loss: 0.9966 - val_accuracy: 0.9446 - val_precision: 0.5876 - val_recall: 0.8028 - val_pr_auc: 0.9894\n",
      "Epoch 72/100\n",
      "6/6 [==============================] - 7s 1s/step - loss: 1.0166 - accuracy: 0.9304 - precision: 0.5110 - recall: 0.9871 - pr_auc: 0.9832 - val_loss: 0.9846 - val_accuracy: 0.9466 - val_precision: 0.5993 - val_recall: 0.8075 - val_pr_auc: 0.9897\n",
      "Epoch 73/100\n",
      "6/6 [==============================] - 7s 1s/step - loss: 1.0022 - accuracy: 0.9392 - precision: 0.5454 - recall: 0.9824 - pr_auc: 0.9861 - val_loss: 0.9856 - val_accuracy: 0.9425 - val_precision: 0.5701 - val_recall: 0.8592 - val_pr_auc: 0.9875\n",
      "Epoch 74/100\n",
      "6/6 [==============================] - 7s 1s/step - loss: 0.9888 - accuracy: 0.9363 - precision: 0.5337 - recall: 0.9871 - pr_auc: 0.9854 - val_loss: 0.9600 - val_accuracy: 0.9473 - val_precision: 0.6065 - val_recall: 0.7887 - val_pr_auc: 0.9902\n",
      "Epoch 75/100\n",
      "6/6 [==============================] - 7s 1s/step - loss: 0.9820 - accuracy: 0.9317 - precision: 0.5162 - recall: 0.9753 - pr_auc: 0.9827 - val_loss: 0.9548 - val_accuracy: 0.9449 - val_precision: 0.5872 - val_recall: 0.8216 - val_pr_auc: 0.9893\n",
      "Epoch 76/100\n",
      "6/6 [==============================] - 7s 1s/step - loss: 0.9693 - accuracy: 0.9397 - precision: 0.5484 - recall: 0.9659 - pr_auc: 0.9872 - val_loss: 0.9560 - val_accuracy: 0.9394 - val_precision: 0.5559 - val_recall: 0.8404 - val_pr_auc: 0.9871\n",
      "Epoch 77/100\n",
      "6/6 [==============================] - 7s 1s/step - loss: 0.9599 - accuracy: 0.9316 - precision: 0.5155 - recall: 0.9812 - pr_auc: 0.9843 - val_loss: 0.9274 - val_accuracy: 0.9487 - val_precision: 0.6154 - val_recall: 0.7887 - val_pr_auc: 0.9905\n",
      "Epoch 78/100\n",
      "6/6 [==============================] - 7s 1s/step - loss: 0.9509 - accuracy: 0.9309 - precision: 0.5129 - recall: 0.9835 - pr_auc: 0.9841 - val_loss: 0.9144 - val_accuracy: 0.9487 - val_precision: 0.6198 - val_recall: 0.7653 - val_pr_auc: 0.9911\n",
      "Epoch 79/100\n",
      "6/6 [==============================] - 7s 1s/step - loss: 0.9405 - accuracy: 0.9334 - precision: 0.5226 - recall: 0.9800 - pr_auc: 0.9851 - val_loss: 0.9168 - val_accuracy: 0.9449 - val_precision: 0.5867 - val_recall: 0.8263 - val_pr_auc: 0.9890\n",
      "Epoch 80/100\n",
      "6/6 [==============================] - 7s 1s/step - loss: 0.9298 - accuracy: 0.9416 - precision: 0.5561 - recall: 0.9800 - pr_auc: 0.9871 - val_loss: 0.9239 - val_accuracy: 0.9381 - val_precision: 0.5473 - val_recall: 0.8685 - val_pr_auc: 0.9858\n",
      "Epoch 81/100\n",
      "6/6 [==============================] - 7s 1s/step - loss: 0.9243 - accuracy: 0.9363 - precision: 0.5339 - recall: 0.9729 - pr_auc: 0.9849 - val_loss: 0.9065 - val_accuracy: 0.9418 - val_precision: 0.5670 - val_recall: 0.8545 - val_pr_auc: 0.9876\n",
      "Epoch 82/100\n",
      "6/6 [==============================] - 7s 1s/step - loss: 0.9142 - accuracy: 0.9262 - precision: 0.4964 - recall: 0.9871 - pr_auc: 0.9811 - val_loss: 0.8678 - val_accuracy: 0.9535 - val_precision: 0.6696 - val_recall: 0.7136 - val_pr_auc: 0.9923\n",
      "Epoch 83/100\n",
      "6/6 [==============================] - 7s 1s/step - loss: 0.9030 - accuracy: 0.9300 - precision: 0.5098 - recall: 0.9835 - pr_auc: 0.9826 - val_loss: 0.8645 - val_accuracy: 0.9514 - val_precision: 0.6449 - val_recall: 0.7418 - val_pr_auc: 0.9916\n",
      "Epoch 84/100\n",
      "6/6 [==============================] - 7s 1s/step - loss: 0.8933 - accuracy: 0.9415 - precision: 0.5558 - recall: 0.9729 - pr_auc: 0.9875 - val_loss: 0.8781 - val_accuracy: 0.9418 - val_precision: 0.5678 - val_recall: 0.8451 - val_pr_auc: 0.9880\n",
      "Epoch 85/100\n",
      "6/6 [==============================] - 7s 1s/step - loss: 0.8844 - accuracy: 0.9373 - precision: 0.5378 - recall: 0.9800 - pr_auc: 0.9858 - val_loss: 0.8551 - val_accuracy: 0.9476 - val_precision: 0.6103 - val_recall: 0.7793 - val_pr_auc: 0.9905\n",
      "Epoch 86/100\n",
      "6/6 [==============================] - 7s 1s/step - loss: 0.8720 - accuracy: 0.9337 - precision: 0.5233 - recall: 0.9906 - pr_auc: 0.9845 - val_loss: 0.8366 - val_accuracy: 0.9514 - val_precision: 0.6498 - val_recall: 0.7230 - val_pr_auc: 0.9920\n",
      "Epoch 87/100\n",
      "6/6 [==============================] - 7s 1s/step - loss: 0.8662 - accuracy: 0.9319 - precision: 0.5166 - recall: 0.9882 - pr_auc: 0.9833 - val_loss: 0.8244 - val_accuracy: 0.9535 - val_precision: 0.6758 - val_recall: 0.6948 - val_pr_auc: 0.9925\n",
      "Epoch 88/100\n",
      "6/6 [==============================] - 7s 1s/step - loss: 0.8574 - accuracy: 0.9389 - precision: 0.5448 - recall: 0.9729 - pr_auc: 0.9868 - val_loss: 0.8329 - val_accuracy: 0.9470 - val_precision: 0.6043 - val_recall: 0.7887 - val_pr_auc: 0.9902\n",
      "Epoch 89/100\n",
      "6/6 [==============================] - 7s 1s/step - loss: 0.8510 - accuracy: 0.9425 - precision: 0.5602 - recall: 0.9741 - pr_auc: 0.9876 - val_loss: 0.8385 - val_accuracy: 0.9411 - val_precision: 0.5639 - val_recall: 0.8498 - val_pr_auc: 0.9878\n",
      "Epoch 90/100\n",
      "6/6 [==============================] - 7s 1s/step - loss: 0.8389 - accuracy: 0.9377 - precision: 0.5396 - recall: 0.9776 - pr_auc: 0.9860 - val_loss: 0.8094 - val_accuracy: 0.9507 - val_precision: 0.6386 - val_recall: 0.7465 - val_pr_auc: 0.9914\n",
      "Epoch 91/100\n",
      "6/6 [==============================] - 7s 1s/step - loss: 0.8307 - accuracy: 0.9339 - precision: 0.5240 - recall: 0.9882 - pr_auc: 0.9848 - val_loss: 0.7955 - val_accuracy: 0.9524 - val_precision: 0.6637 - val_recall: 0.7042 - val_pr_auc: 0.9923\n",
      "Epoch 92/100\n",
      "6/6 [==============================] - 7s 1s/step - loss: 0.8260 - accuracy: 0.9344 - precision: 0.5261 - recall: 0.9824 - pr_auc: 0.9853 - val_loss: 0.7903 - val_accuracy: 0.9521 - val_precision: 0.6553 - val_recall: 0.7230 - val_pr_auc: 0.9920\n",
      "Epoch 93/100\n",
      "6/6 [==============================] - 7s 1s/step - loss: 0.8170 - accuracy: 0.9394 - precision: 0.5468 - recall: 0.9753 - pr_auc: 0.9872 - val_loss: 0.7947 - val_accuracy: 0.9480 - val_precision: 0.6117 - val_recall: 0.7840 - val_pr_auc: 0.9903\n",
      "Epoch 94/100\n",
      "6/6 [==============================] - 7s 1s/step - loss: 0.8079 - accuracy: 0.9441 - precision: 0.5669 - recall: 0.9824 - pr_auc: 0.9887 - val_loss: 0.7970 - val_accuracy: 0.9452 - val_precision: 0.5880 - val_recall: 0.8310 - val_pr_auc: 0.9887\n",
      "Epoch 95/100\n",
      "6/6 [==============================] - 7s 1s/step - loss: 0.8001 - accuracy: 0.9365 - precision: 0.5344 - recall: 0.9882 - pr_auc: 0.9850 - val_loss: 0.7631 - val_accuracy: 0.9541 - val_precision: 0.6890 - val_recall: 0.6761 - val_pr_auc: 0.9927\n",
      "Epoch 96/100\n",
      "6/6 [==============================] - 7s 1s/step - loss: 0.7975 - accuracy: 0.9307 - precision: 0.5122 - recall: 0.9871 - pr_auc: 0.9832 - val_loss: 0.7598 - val_accuracy: 0.9524 - val_precision: 0.6667 - val_recall: 0.6948 - val_pr_auc: 0.9923\n",
      "Epoch 97/100\n",
      "6/6 [==============================] - 7s 1s/step - loss: 0.7867 - accuracy: 0.9448 - precision: 0.5705 - recall: 0.9753 - pr_auc: 0.9888 - val_loss: 0.7666 - val_accuracy: 0.9490 - val_precision: 0.6185 - val_recall: 0.7840 - val_pr_auc: 0.9904\n",
      "Epoch 98/100\n",
      "6/6 [==============================] - 7s 1s/step - loss: 0.7800 - accuracy: 0.9382 - precision: 0.5412 - recall: 0.9894 - pr_auc: 0.9861 - val_loss: 0.7471 - val_accuracy: 0.9521 - val_precision: 0.6622 - val_recall: 0.6995 - val_pr_auc: 0.9923\n",
      "Epoch 99/100\n",
      "6/6 [==============================] - 7s 1s/step - loss: 0.7711 - accuracy: 0.9385 - precision: 0.5423 - recall: 0.9871 - pr_auc: 0.9872 - val_loss: 0.7448 - val_accuracy: 0.9507 - val_precision: 0.6444 - val_recall: 0.7230 - val_pr_auc: 0.9918\n",
      "Epoch 100/100\n",
      "6/6 [==============================] - 7s 1s/step - loss: 0.7677 - accuracy: 0.9407 - precision: 0.5517 - recall: 0.9847 - pr_auc: 0.9879 - val_loss: 0.7516 - val_accuracy: 0.9466 - val_precision: 0.6000 - val_recall: 0.8028 - val_pr_auc: 0.9898\n"
     ]
    }
   ],
   "source": [
    "history = model.fit(x_train, y_train, batch_size = 2048, epochs = 100, class_weight = class_weigh, \n",
    "                    validation_data = (x_test, y_test), callbacks = [callback])"
   ]
  },
  {
   "cell_type": "code",
   "execution_count": 44,
   "id": "0fd4e533-527b-4faa-b470-e2561476080c",
   "metadata": {},
   "outputs": [],
   "source": [
    "model.save_weights('../processed_data/trained_weight.h5')"
   ]
  },
  {
   "cell_type": "code",
   "execution_count": 45,
   "id": "23c7aa4b-f787-4f64-aed1-be7c03fe0917",
   "metadata": {},
   "outputs": [
    {
     "name": "stdout",
     "output_type": "stream",
     "text": [
      "92/92 - 0s - loss: 0.7516 - accuracy: 0.9466 - precision: 0.6000 - recall: 0.8028 - pr_auc: 0.9898 - 406ms/epoch - 4ms/step\n",
      "Test Accuracy: 94.66%\n",
      "Test Precision: 60.00%\n",
      "Test Recall: 80.28%\n",
      "Test AUC: 98.98%\n"
     ]
    }
   ],
   "source": [
    "test_loss, test_accuracy, test_precision, test_recall, test_pr_auc=model.evaluate(x_test, y_test, verbose=2)\n",
    "print(f\"Test Accuracy: {test_accuracy * 100:.2f}%\")\n",
    "print(f\"Test Precision: {test_precision * 100:.2f}%\")\n",
    "print(f\"Test Recall: {test_recall * 100:.2f}%\")\n",
    "print(f\"Test AUC: {test_pr_auc * 100:.2f}%\")"
   ]
  },
  {
   "cell_type": "code",
   "execution_count": 46,
   "id": "dff962aa-0a48-4ad2-8439-310a14093022",
   "metadata": {},
   "outputs": [
    {
     "name": "stdout",
     "output_type": "stream",
     "text": [
      "457/457 [==============================] - 2s 4ms/step\n"
     ]
    }
   ],
   "source": [
    "class_predictions = model.predict(x_data)"
   ]
  },
  {
   "cell_type": "code",
   "execution_count": 47,
   "id": "1d36c12e-91e3-4888-aeb3-4e15571c2086",
   "metadata": {},
   "outputs": [],
   "source": [
    "history_df = pd.DataFrame(history.history) \n",
    "history_df.to_csv('../processed_data/model_metrics.csv')\n",
    "date=data_x.time.values\n",
    "predict_df = pd.DataFrame(class_predictions)\n",
    "predict_df = predict_df.rename(columns = {0: 'prob_0', 1: 'prob_1'})\n",
    "predict_df['predicted_class'] = np.argmax(class_predictions, axis = 1)\n",
    "predict_df['set'] = 'train'\n",
    "predict_df.loc[ind_test, 'set'] = 'test'\n",
    "predict_df['true_y'] = y_data\n",
    "predict_df.insert(0, 'date', date)\n",
    "predict_df.to_csv('../processed_data/model_predictions.csv')"
   ]
  },
  {
   "cell_type": "code",
   "execution_count": 55,
   "id": "683e63ef-cf7a-4b5d-b3c7-1101976acc07",
   "metadata": {
    "scrolled": true
   },
   "outputs": [
    {
     "name": "stdout",
     "output_type": "stream",
     "text": [
      "457/457 - 2s - loss: 0.7278 - accuracy: 0.9612 - precision: 0.6627 - recall: 0.9501 - pr_auc: 0.9938 - 2s/epoch - 4ms/step\n"
     ]
    }
   ],
   "source": [
    "evaluation=model.evaluate(x_data, y_data_one_hot, verbose=2)\n",
    "evaluation\n",
    "ev=pd.DataFrame({'loss':[evaluation[0]], 'accuracy': [evaluation[1]], 'precision': [evaluation[2]], 'recall':[evaluation[3]], 'pr_auc': [evaluation[4]],'lr':[0.0001], 'activity_reg':[0.0001], 'dropout_rate':[0.2]})\n",
    "ev.to_csv('../processed_data/model_evaluation.csv')"
   ]
  },
  {
   "cell_type": "code",
   "execution_count": 33,
   "id": "c5819762-aac6-4411-bc07-fbec25b597f5",
   "metadata": {},
   "outputs": [
    {
     "data": {
      "image/png": "[encoded data removed]",
      "text/plain": [
       "<Figure size 1200x500 with 3 Axes>"
      ]
     },
     "metadata": {},
     "output_type": "display_data"
    }
   ],
   "source": [
    "fig = plt.figure(figsize=(12, 5))\n",
    "df=pd.read_csv('../processed_data/model_metrics.csv')\n",
    "title=['loss', 'accuracy', 'recall']\n",
    "metrics=['loss', 'accuracy', 'pr_auc']\n",
    "val_metrics=['val_loss', 'val_accuracy', 'val_pr_auc']\n",
    "for k in range(3):\n",
    "    metric=df[metrics[k]]\n",
    "    val_metric=df[val_metrics[k]]\n",
    "    ax = fig.add_subplot(1, 3, k+1)\n",
    "    ax.plot(metric, 'k', linewidth=2.5, label='train')\n",
    "    ax.plot(val_metric, 'b', linewidth=2.5,   label='validation')\n",
    "    ax.set_title(metrics[k], fontweight='bold')\n",
    "    ax.set_xlabel('epochs', fontweight='bold')\n",
    "    ax.legend()\n",
    "plt.savefig('../figures/Figure01.jpg', bbox_inches='tight', pad_inches=0.1, format='jpg', dpi=600) "
   ]
  }
 ],
 "metadata": {
  "kernelspec": {
   "display_name": "Python 3 (ipykernel)",
   "language": "python",
   "name": "python3"
  },
  "language_info": {
   "codemirror_mode": {
    "name": "ipython",
    "version": 3
   },
   "file_extension": ".py",
   "mimetype": "text/x-python",
   "name": "python",
   "nbconvert_exporter": "python",
   "pygments_lexer": "ipython3",
   "version": "3.12.3"
  }
 },
 "nbformat": 4,
 "nbformat_minor": 5
}
