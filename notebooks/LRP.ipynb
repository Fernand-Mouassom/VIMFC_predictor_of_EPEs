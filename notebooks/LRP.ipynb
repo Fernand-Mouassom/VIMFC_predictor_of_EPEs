{
 "cells": [
  {
   "cell_type": "code",
   "execution_count": 2,
   "id": "026c18ef-121c-41a5-b273-c1b4925a49b5",
   "metadata": {
    "scrolled": true
   },
   "outputs": [],
   "source": [
    "import numpy as np\n",
    "import pandas as pd\n",
    "import xarray as xr\n",
    "import keras\n",
    "import innvestigate\n",
    "import importlib\n",
    "from sklearn.model_selection import train_test_split\n",
    "from keras import models, layers, regularizers, optimizers, losses"
   ]
  },
  {
   "cell_type": "code",
   "execution_count": 3,
   "id": "2dee774a-5c56-4548-9def-3657f52281a0",
   "metadata": {},
   "outputs": [],
   "source": [
    "def build_model_keras(lr=0.0001, conv_filters=16, dense_neurons=32, dense_layers=1, activity_reg=0.0001, dropout_rate=0.2, input_channels=1):\n",
    "    \n",
    "    model = models.Sequential()\n",
    "    model.add(layers.InputLayer(input_shape=(121, 121, input_channels)))\n",
    "    \n",
    "    model.add(layers.Conv2D(conv_filters, (3, 3), activity_regularizer=regularizers.l2(0.01)))\n",
    "    model.add(layers.Activation('relu'))\n",
    "    model.add(layers.MaxPooling2D((2, 2)))\n",
    "    model.add(layers.Dropout(dropout_rate))\n",
    "    \n",
    "    model.add(layers.Conv2D(conv_filters, (3, 3), activity_regularizer=regularizers.l2(activity_reg)))\n",
    "    model.add(layers.Activation('relu'))\n",
    "    model.add(layers.MaxPooling2D((2, 2)))\n",
    "    model.add(layers.Dropout(dropout_rate))\n",
    "    \n",
    "    model.add(layers.Flatten())\n",
    "\n",
    "    for _ in range(dense_layers):\n",
    "        model.add(layers.Dense(dense_neurons, activity_regularizer=regularizers.l2(activity_reg)))\n",
    "        model.add(layers.Activation('relu'))\n",
    "    \n",
    "    model.add(layers.Dense(2, activation='softmax'))\n",
    "    \n",
    "    model.compile(\n",
    "        loss=losses.categorical_crossentropy,\n",
    "        optimizer=optimizers.Adam(lr=lr),\n",
    "        metrics=['categorical_accuracy']\n",
    "    )\n",
    "    \n",
    "    return model\n",
    "\n",
    "def onehot(x):\n",
    "    y = np.zeros((x.size, x.max()+1)) \n",
    "    y[np.arange(x.size),x] = 1\n",
    "    \n",
    "    return(y)"
   ]
  },
  {
   "cell_type": "code",
   "execution_count": 4,
   "id": "76ca6110-f5d8-45b9-8c21-0900a7a59144",
   "metadata": {},
   "outputs": [],
   "source": [
    "model_keras = build_model_keras()\n",
    "model_keras.load_weights('../processed_data/trained_weight.h5')"
   ]
  },
  {
   "cell_type": "code",
   "execution_count": 5,
   "id": "611ae76d-4edf-44ec-83e0-38dfafad7b66",
   "metadata": {},
   "outputs": [
    {
     "name": "stdout",
     "output_type": "stream",
     "text": [
      "(11688, 121, 121, 1) (2922, 121, 121, 1)\n",
      "(11688, 2) (2922, 2)\n"
     ]
    }
   ],
   "source": [
    "data_x=xr.open_dataset('../input_data/Vertical_Integrated_Moisture_convergence.nc')\n",
    "data_y=pd.read_csv('../processed_data/extreme_event_days.csv')\n",
    "data_y['time'] = pd.to_datetime(data_y['time'], errors='coerce')\n",
    "data_y=data_y.drop('Unnamed: 0', axis=1)\n",
    "n_time=len(data_x.time.values)\n",
    "n_lat=len(data_x.lat.values)\n",
    "n_lon=len(data_x.lon.values)\n",
    "x_data=data_x.VIMFC.values\n",
    "x_data=(x_data-x_data.mean(axis=0))/x_data.std(axis=0)\n",
    "x_data=x_data.reshape(n_time, n_lat, n_lon, 1).astype(np.float32)\n",
    "y_data=np.array(data_y['label'])\n",
    "y_data=y_data.astype(np.int32)\n",
    "y_data_one_hot=onehot(y_data)\n",
    "ind = np.arange(len(y_data))\n",
    "x_train, x_test, y_train, y_test, ind_train, ind_test = train_test_split(x_data, y_data_one_hot, ind, test_size=0.20, random_state=42, \n",
    "                                                                         shuffle = True, stratify = y_data_one_hot)\n",
    "print(x_train.shape, x_test.shape)\n",
    "print(y_train.shape, y_test.shape)"
   ]
  },
  {
   "cell_type": "code",
   "execution_count": 6,
   "id": "77c81a2c-afb6-41a3-9d6d-c59654f71804",
   "metadata": {},
   "outputs": [
    {
     "name": "stdout",
     "output_type": "stream",
     "text": [
      "2922/2922 [==============================] - 4s 1ms/step\n"
     ]
    },
    {
     "data": {
      "text/plain": [
       "[1126.4574721569397, 0.9548254620123203]"
      ]
     },
     "execution_count": 6,
     "metadata": {},
     "output_type": "execute_result"
    }
   ],
   "source": [
    "model_keras.evaluate(x_test, y_test)"
   ]
  },
  {
   "cell_type": "code",
   "execution_count": 7,
   "id": "0b0041af-d1a5-4a2c-a9f4-3ac20d7c53a5",
   "metadata": {
    "scrolled": true
   },
   "outputs": [],
   "source": [
    "predict_df = pd.read_csv('../processed_data/model_predictions.csv')\n",
    "test_predictions = predict_df.loc[predict_df.set == 'test']\n",
    "test_predictions_keras = np.argmax(model_keras.predict(x_data)[np.sort(ind_test)], axis = 1)\n",
    "np.sum(test_predictions_keras != test_predictions.predicted_class)"
   ]
  },
  {
   "cell_type": "code",
   "execution_count": 22,
   "id": "3d714ec9",
   "metadata": {},
   "outputs": [],
   "source": [
    "model_strip = innvestigate.utils.model_wo_softmax(model_keras)"
   ]
  },
  {
   "cell_type": "code",
   "execution_count": 9,
   "id": "24afee5d",
   "metadata": {},
   "outputs": [],
   "source": [
    "predict_df_pos=predict_df[predict_df['predicted_class']==1]\n",
    "predict_df_pos_sort=predict_df_pos.sort_values(by='prob_1', ascending=False)\n",
    "time=np.array(pd.to_datetime(predict_df_pos_sort['date']))\n",
    "data_expos=data_x.where(data_x.time.isin([time]), drop=True)\n",
    "data_ex=data_expos.VIMFC.values\n",
    "data_ex=data_ex.reshape(1382, 121, 121, 1).astype(np.float32)"
   ]
  },
  {
   "cell_type": "code",
   "execution_count": 44,
   "id": "ab5a1e81-feed-44b3-83b5-3b6619bdcff9",
   "metadata": {},
   "outputs": [],
   "source": [
    "lrp_analyzerA1B0 = innvestigate.analyzer.relevance_based.relevance_analyzer.LRPAlpha1Beta0(model_strip)\n",
    "relevance = lrp_analyzerA1B0.analyze(data_ex)\n",
    "relevance_data = xr.Dataset(\n",
    "    data_vars=dict(\n",
    "        vimfc=(['time', 'lat', 'lon'], relevance[:,:,:,0]), \n",
    "    ),\n",
    "    coords=dict(\n",
    "        time=data_expos.time.values, \n",
    "        lat = data_expos.lat.values, \n",
    "        lon = data_expos.lon.values),\n",
    ")\n",
    "relevance_data.to_netcdf('../processed_data/lrp_relevance_pos_days.nc')"
   ]
  },
  {
   "cell_type": "code",
   "execution_count": 24,
   "id": "b75a81d6",
   "metadata": {},
   "outputs": [],
   "source": [
    "predict_df_neg=predict_df[predict_df['predicted_class']==0]\n",
    "predict_df_neg_sort=predict_df_neg.sort_values(by='prob_0', ascending=False)\n",
    "time=np.array(pd.to_datetime(predict_df_neg_sort['date']))\n",
    "data_exneg=data_x.where(data_x.time.isin([time]), drop=True)\n",
    "data_ex=data_exneg.VIMFC.values\n",
    "data_ex=data_ex.reshape(13228, 121, 121, 1).astype(np.float32)\n",
    "\n",
    "# data_exneg=data_x.where(data_x.time.dt.year==1998, drop=True)\n",
    "# data_exneg=data_exneg.where(data_exneg.time.dt.month==4, drop=True)\n",
    "# data_exneg=data_exneg.where(data_exneg.time.dt.day==21, drop=True)\n",
    "# data_exnegg=data_exneg.VIMFC.values\n",
    "# data_exnegg=data_exnegg.reshape(1, 121, 121, 1).astype(np.float32)"
   ]
  },
  {
   "cell_type": "code",
   "execution_count": 25,
   "id": "e646a632",
   "metadata": {},
   "outputs": [],
   "source": [
    "lrp_analyzerA1B0 = innvestigate.analyzer.relevance_based.relevance_analyzer.LRPAlpha1Beta0(model_strip)\n",
    "relevance = lrp_analyzerA1B0.analyze(data_exnegg)\n",
    "relevance_data = xr.Dataset(\n",
    "    data_vars=dict(\n",
    "        vimfc=(['time', 'lat', 'lon'], relevance[:,:,:,0]), \n",
    "    ),\n",
    "    coords=dict(\n",
    "        time=data_exneg.time.values, \n",
    "        lat = data_exneg.lat.values, \n",
    "        lon = data_exneg.lon.values),\n",
    ")\n",
    "relevance_data.to_netcdf('../processed_data/lrp_relevance_neg_days.nc')"
   ]
  }
 ],
 "metadata": {
  "kernelspec": {
   "display_name": "Python 3 (ipykernel)",
   "language": "python",
   "name": "python3"
  },
  "language_info": {
   "codemirror_mode": {
    "name": "ipython",
    "version": 3
   },
   "file_extension": ".py",
   "mimetype": "text/x-python",
   "name": "python",
   "nbconvert_exporter": "python",
   "pygments_lexer": "ipython3",
   "version": "3.12.3"
  }
 },
 "nbformat": 4,
 "nbformat_minor": 5
}
